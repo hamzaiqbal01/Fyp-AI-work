{
 "cells": [
  {
   "cell_type": "code",
   "execution_count": null,
   "id": "0391444a",
   "metadata": {},
   "outputs": [
    {
     "name": "stderr",
     "output_type": "stream",
     "text": [
      "INFO:     Started server process [940]\n",
      "INFO:     Waiting for application startup.\n",
      "INFO:     Application startup complete.\n",
      "INFO:     Uvicorn running on http://localhost:8000 (Press CTRL+C to quit)\n"
     ]
    },
    {
     "name": "stdout",
     "output_type": "stream",
     "text": [
      "1/1 [==============================] - 1s 549ms/step\n",
      "class Healthy confidence 1.0\n",
      "INFO:     ::1:63203 - \"POST /predict HTTP/1.1\" 200 OK\n",
      "1/1 [==============================] - 0s 185ms/step\n",
      "class Brown_rust confidence 0.9995595812797546\n",
      "INFO:     ::1:63208 - \"POST /predict HTTP/1.1\" 200 OK\n",
      "1/1 [==============================] - 0s 69ms/step\n",
      "class Brown_rust confidence 0.9995595812797546\n",
      "INFO:     ::1:63502 - \"POST /predict HTTP/1.1\" 200 OK\n",
      "1/1 [==============================] - 0s 56ms/step\n",
      "class Brown_rust confidence 0.9995595812797546\n",
      "INFO:     ::1:63815 - \"POST /predict HTTP/1.1\" 200 OK\n",
      "1/1 [==============================] - 0s 54ms/step\n",
      "class Brown_rust confidence 0.9995595812797546\n",
      "INFO:     ::1:64548 - \"POST /predict HTTP/1.1\" 200 OK\n",
      "1/1 [==============================] - 0s 62ms/step\n",
      "class Brown_rust confidence 0.9999868869781494\n",
      "INFO:     ::1:64681 - \"POST /predict HTTP/1.1\" 200 OK\n",
      "INFO:     ::1:64694 - \"POST /predict HTTP/1.1\" 422 Unprocessable Entity\n",
      "1/1 [==============================] - 0s 73ms/step\n",
      "class Brown_rust confidence 1.0\n",
      "INFO:     ::1:64745 - \"POST /predict HTTP/1.1\" 200 OK\n"
     ]
    }
   ],
   "source": [
    "from fastapi import FastAPI, File, UploadFile\n",
    "from fastapi.middleware.cors import CORSMiddleware\n",
    "import uvicorn\n",
    "import numpy as np\n",
    "from io import BytesIO\n",
    "from PIL import Image\n",
    "import requests\n",
    "import tensorflow as tf\n",
    "import nest_asyncio\n",
    "nest_asyncio.apply()\n",
    "\n",
    "app = FastAPI()\n",
    "origins = [\n",
    "    \"http://localhost\",\n",
    "    \"http://localhost:3000\",\n",
    "]\n",
    "app.add_middleware(\n",
    "    CORSMiddleware,\n",
    "    allow_origins=origins,\n",
    "    allow_credentials=True,\n",
    "    allow_methods=[\"*\"],\n",
    "    allow_headers=[\"*\"],\n",
    ")\n",
    "\n",
    "model=tf.keras.models.load_model(\"model3.h5\");\n",
    "\n",
    "CLASS_NAMES = [\"Brown_rust\", \"Healthy\", \"Yellow_rust\"]\n",
    "\n",
    "@app.get(\"/\")\n",
    "async def ping():\n",
    "    return \"Alive\"\n",
    "\n",
    "\n",
    "def read_file_as_image(data)->np.ndarray:\n",
    "    image = np.array(Image.open(BytesIO(data)))\n",
    "    return image\n",
    "\n",
    "\n",
    "@app.post(\"/predict\")\n",
    "async def predict(\n",
    "        file: UploadFile = File(...)\n",
    "):\n",
    "    image = read_file_as_image(await file.read())\n",
    "    img_batch = np.expand_dims(image, 0)\n",
    "    predictions=model.predict(img_batch)\n",
    "    predicted_class = CLASS_NAMES[np.argmax(predictions[0])]\n",
    "    confidence = np.max(predictions[0])\n",
    "    print('class',predicted_class,\n",
    "        'confidence',float(confidence))\n",
    "    return {\n",
    "        'class': predicted_class,\n",
    "        'confidence': float(confidence)\n",
    "    }\n",
    "\n",
    "if __name__ == \"__main__\":\n",
    "    uvicorn.run(app, host='localhost',port=8000)\n"
   ]
  },
  {
   "cell_type": "code",
   "execution_count": null,
   "id": "dfd89c81",
   "metadata": {},
   "outputs": [],
   "source": []
  },
  {
   "cell_type": "code",
   "execution_count": null,
   "id": "5e5a1efd",
   "metadata": {},
   "outputs": [],
   "source": []
  }
 ],
 "metadata": {
  "kernelspec": {
   "display_name": "Python 3 (ipykernel)",
   "language": "python",
   "name": "python3"
  },
  "language_info": {
   "codemirror_mode": {
    "name": "ipython",
    "version": 3
   },
   "file_extension": ".py",
   "mimetype": "text/x-python",
   "name": "python",
   "nbconvert_exporter": "python",
   "pygments_lexer": "ipython3",
   "version": "3.10.11"
  }
 },
 "nbformat": 4,
 "nbformat_minor": 5
}
